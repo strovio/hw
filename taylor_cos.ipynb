{
 "cells": [
  {
   "cell_type": "code",
   "execution_count": null,
   "metadata": {},
   "outputs": [],
   "source": [
    "import math\n",
    "\n",
    "ITERATIONS = 20\n",
    "\n",
    "def my_cos(x):\n",
    "    \"\"\"\n",
    "    Вычисление косинуса при помощи частичного суммирования\n",
    "    ряда Тейлора для окрестности 0\n",
    "    \"\"\"\n",
    "    x_pow = x\n",
    "    multiplier = 1\n",
    "    partial_sum = x\n",
    "    for n in range(1, ITERATIONS):\n",
    "        x_pow *= x**2  # В цикле постепенно считаем степень\n",
    "        multiplier *= -1 / (2*n) / (2*n + 1)  # (-1)^n и факториал\n",
    "        partial_sum += x_pow * multiplier\n",
    "    \n",
    "    return partial_sum\n",
    "\n",
    "print(help(math.cos), math.cos(0.4))\n",
    "print(help(my_cos), my_cos(0.4))"
   ]
  },
  {
   "cell_type": "code",
   "execution_count": null,
   "metadata": {},
   "outputs": [],
   "source": [
    "import math\n",
    "import cmath\n",
    "\n",
    "complex_angle = cmath.acos(5)\n",
    "print('\"Угол\", на котором косинус достигает пяти:', complex_angle)\n",
    "\n",
    "print(\"Достигает ли пяти наш косинус?\", my_cos(complex_angle))\n",
    "print(\"А библиотечный?\", cmath.cos(complex_angle))"
   ]
  },
  {
   "cell_type": "code",
   "execution_count": null,
   "metadata": {},
   "outputs": [],
   "source": [
    "%matplotlib inline\n",
    "from IPython.display import set_matplotlib_formats\n",
    "set_matplotlib_formats('pdf', 'svg')\n",
    "\n",
    "\n",
    "import matplotlib.pyplot as plt\n",
    "import numpy as np\n",
    "\n",
    "vs = np.vectorize(my_cos)\n",
    "print(my_cos, vs)\n",
    "angles = np.r_[-16.25:16.25:0.01]\n",
    "plt.plot(angles, np.cos(angles))\n",
    "plt.plot(angles, vs(angles))\n",
    "plt.show()"
   ]
  }
 ],
 "metadata": {
  "kernelspec": {
   "display_name": "Python 3",
   "language": "python",
   "name": "python3"
  },
  "language_info": {
   "codemirror_mode": {
    "name": "ipython",
    "version": 3
   },
   "file_extension": ".py",
   "mimetype": "text/x-python",
   "name": "python",
   "nbconvert_exporter": "python",
   "pygments_lexer": "ipython3",
   "version": "3.7.0"
  }
 },
 "nbformat": 4,
 "nbformat_minor": 4
}
